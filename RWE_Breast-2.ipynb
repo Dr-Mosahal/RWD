{
 "cells": [
  {
   "cell_type": "code",
   "execution_count": 41,
   "id": "2d23bbf0",
   "metadata": {},
   "outputs": [
    {
     "name": "stdout",
     "output_type": "stream",
     "text": [
      "Collecting rpy2\n",
      "  Using cached rpy2-3.5.17.tar.gz (220 kB)\n",
      "  Installing build dependencies: started\n",
      "  Installing build dependencies: finished with status 'done'\n",
      "  Getting requirements to build wheel: started\n",
      "  Getting requirements to build wheel: finished with status 'done'\n",
      "  Preparing metadata (pyproject.toml): started\n",
      "  Preparing metadata (pyproject.toml): finished with status 'done'\n",
      "Collecting cffi>=1.15.1 (from rpy2)\n",
      "  Using cached cffi-1.17.1-cp312-cp312-win_amd64.whl.metadata (1.6 kB)\n",
      "Requirement already satisfied: jinja2 in c:\\projects\\diamondpriceprediction\\denv\\lib\\site-packages (from rpy2) (3.1.3)\n",
      "Collecting tzlocal (from rpy2)\n",
      "  Downloading tzlocal-5.3.1-py3-none-any.whl.metadata (7.6 kB)\n",
      "Requirement already satisfied: packaging in c:\\projects\\diamondpriceprediction\\denv\\lib\\site-packages (from rpy2) (23.2)\n",
      "Collecting pycparser (from cffi>=1.15.1->rpy2)\n",
      "  Using cached pycparser-2.22-py3-none-any.whl.metadata (943 bytes)\n",
      "Requirement already satisfied: MarkupSafe>=2.0 in c:\\projects\\diamondpriceprediction\\denv\\lib\\site-packages (from jinja2->rpy2) (2.1.5)\n",
      "Requirement already satisfied: tzdata in c:\\projects\\diamondpriceprediction\\denv\\lib\\site-packages (from tzlocal->rpy2) (2023.3)\n",
      "Using cached cffi-1.17.1-cp312-cp312-win_amd64.whl (181 kB)\n",
      "Downloading tzlocal-5.3.1-py3-none-any.whl (18 kB)\n",
      "Using cached pycparser-2.22-py3-none-any.whl (117 kB)\n",
      "Building wheels for collected packages: rpy2\n",
      "  Building wheel for rpy2 (pyproject.toml): started\n",
      "  Building wheel for rpy2 (pyproject.toml): finished with status 'done'\n",
      "  Created wheel for rpy2: filename=rpy2-3.5.17-py3-none-any.whl size=221382 sha256=eb8f95711eccb1eadac5fe49fc5e1dd1fe65abe479de7198741bba1032b62c57\n",
      "  Stored in directory: c:\\users\\sahal\\appdata\\local\\pip\\cache\\wheels\\fb\\3c\\a8\\5c2ab28ca010aa26f09174d6ac337141721ee764f7b17c0953\n",
      "Successfully built rpy2\n",
      "Installing collected packages: tzlocal, pycparser, cffi, rpy2\n",
      "Successfully installed cffi-1.17.1 pycparser-2.22 rpy2-3.5.17 tzlocal-5.3.1\n"
     ]
    }
   ],
   "source": [
    "!pip install rpy2"
   ]
  },
  {
   "cell_type": "code",
   "execution_count": 6,
   "id": "633b001f",
   "metadata": {},
   "outputs": [],
   "source": [
    "import pandas as pd\n",
    "import numpy as np\n",
    "import pandasql as pql"
   ]
  },
  {
   "cell_type": "code",
   "execution_count": 7,
   "id": "c0243745",
   "metadata": {},
   "outputs": [],
   "source": [
    "av_patients = pd.read_csv(r'data\\sim_av_patient.csv')\n",
    "sact_patients = pd.read_csv(r'data\\sim_sact_patient.csv')\n",
    "                          "
   ]
  },
  {
   "cell_type": "code",
   "execution_count": 8,
   "id": "f4dcbe58",
   "metadata": {},
   "outputs": [],
   "source": [
    "query = \"\"\"\n",
    "SELECT * from av_patients\n",
    "limit 10;\n",
    "\"\"\" "
   ]
  },
  {
   "cell_type": "code",
   "execution_count": 9,
   "id": "14ce350e",
   "metadata": {},
   "outputs": [
    {
     "name": "stdout",
     "output_type": "stream",
     "text": [
      "   PATIENTID  SEX  LINKNUMBER ETHNICITY DEATHCAUSECODE_1A DEATHCAUSECODE_1B  \\\n",
      "0   10000001    1   810000001         Z              None              None   \n",
      "1   10000002    1   810000002         A              I259              None   \n",
      "2   10000003    1   810000003         Z              None              None   \n",
      "3   10000004    2   810000004         A              None              None   \n",
      "4   10000005    1   810000005         A              None              None   \n",
      "5   10000006    2   810000006      None              None              None   \n",
      "6   10000007    1   810000007         A              None              None   \n",
      "7   10000008    1   810000008         A              None              None   \n",
      "8   10000009    1   810000009         A              None              None   \n",
      "9   10000010    1   810000010         A              None              None   \n",
      "\n",
      "  DEATHCAUSECODE_1C DEATHCAUSECODE_2 DEATHCAUSECODE_UNDERLYING  \\\n",
      "0              None             None                      None   \n",
      "1              None             I509                      I259   \n",
      "2              None             None                      None   \n",
      "3              None             None                      None   \n",
      "4              None             None                      None   \n",
      "5              None             None                      None   \n",
      "6              None             None                      None   \n",
      "7              None             None                      None   \n",
      "8              None             None                      None   \n",
      "9              None             None                      None   \n",
      "\n",
      "  DEATHLOCATIONCODE NEWVITALSTATUS VITALSTATUSDATE  \n",
      "0              None              A      2019-02-08  \n",
      "1                 4              A      2019-02-08  \n",
      "2              None              A      2019-02-08  \n",
      "3              None              D      2018-01-06  \n",
      "4              None              A      2019-02-06  \n",
      "5              None              A      2019-02-08  \n",
      "6              None              A      2019-02-09  \n",
      "7              None              A      2019-02-11  \n",
      "8              None              A      2019-02-09  \n",
      "9              None              A      2019-02-06  \n"
     ]
    }
   ],
   "source": [
    "result = pql.sqldf(query, locals())\n",
    "print(result)"
   ]
  },
  {
   "cell_type": "code",
   "execution_count": 10,
   "id": "8daadda4",
   "metadata": {},
   "outputs": [
    {
     "name": "stdout",
     "output_type": "stream",
     "text": [
      "   MERGED_PATIENT_ID  LINK_NUMBER\n",
      "0           10002576    810002576\n",
      "1           10007761    810007761\n",
      "2           10010502    810010502\n",
      "3           10016805    810016805\n",
      "4           10018778    810018778\n",
      "5           10019027    810019027\n",
      "6           10019936    810019936\n",
      "7           10025059    810025059\n",
      "8           10029618    810029618\n",
      "9           10030668    810030668\n"
     ]
    }
   ],
   "source": [
    "#Cohort Selection\n",
    "\n",
    "query2 = \"\"\"SELECT * from sact_patients \n",
    "limit 10;\n",
    "\"\"\"\n",
    "result2 = pql.sqldf(query2, locals())\n",
    "print(result2)\n"
   ]
  },
  {
   "cell_type": "code",
   "execution_count": 11,
   "id": "aab701fa",
   "metadata": {},
   "outputs": [
    {
     "name": "stdout",
     "output_type": "stream",
     "text": [
      "         PATIENTID  LINKNUMBER  MERGED_PATIENT_ID\n",
      "0         10000001   810000001                NaN\n",
      "1         10000002   810000002                NaN\n",
      "2         10000003   810000003                NaN\n",
      "3         10000004   810000004                NaN\n",
      "4         10000005   810000005                NaN\n",
      "...            ...         ...                ...\n",
      "2200621  330025052  1130025052        330025052.0\n",
      "2200622  330025053  1130025053                NaN\n",
      "2200623  330025054  1130025054                NaN\n",
      "2200624  330025055  1130025055                NaN\n",
      "2200625  330025056  1130025056                NaN\n",
      "\n",
      "[2200626 rows x 3 columns]\n"
     ]
    }
   ],
   "source": [
    "query3 = \"\"\"\n",
    "select ap.PATIENTID,ap.LINKNUMBER,sp.MERGED_PATIENT_ID\n",
    "from av_patients as ap\n",
    "left join sact_patients as sp\n",
    "on ap.PATIENTID = sp.MERGED_PATIENT_ID\n",
    "\"\"\"\n",
    "result3 = pql.sqldf(query3, locals())\n",
    "print(result3)"
   ]
  },
  {
   "cell_type": "code",
   "execution_count": 12,
   "id": "c48bc9f4",
   "metadata": {},
   "outputs": [
    {
     "name": "stdout",
     "output_type": "stream",
     "text": [
      "   count(*)\n",
      "0    366266\n"
     ]
    }
   ],
   "source": [
    "queryc =\"\"\" Select count(*) from result3\n",
    "where MERGED_PATIENT_ID is not null;\"\"\"\n",
    "resultc = pql.sqldf(queryc, locals())\n",
    "print(resultc)"
   ]
  },
  {
   "cell_type": "code",
   "execution_count": 13,
   "id": "d0527605",
   "metadata": {},
   "outputs": [
    {
     "name": "stderr",
     "output_type": "stream",
     "text": [
      "C:\\Users\\sahal\\AppData\\Local\\Temp\\ipykernel_13348\\2253575969.py:2: DtypeWarning: Columns (5,6,8,9,17,18,20,22,24,26) have mixed types. Specify dtype option on import or set low_memory=False.\n",
      "  av_tumour = pd.read_csv(r'data\\sim_av_tumour.csv')\n"
     ]
    },
    {
     "name": "stdout",
     "output_type": "stream",
     "text": [
      "   TUMOURID  PATIENTID DIAGNOSISDATEBEST SITE_ICD10_O2 SITE_ICD10_O2_3CHAR  \\\n",
      "0  10000001   10000001        2017-04-24          C447                 C44   \n",
      "1  10000002   10000002        2016-10-18          C449                 C44   \n",
      "2  10000003   10000003        2017-01-13          C447                 C44   \n",
      "3  10000004   10000004        2015-10-28          C449                 C44   \n",
      "4  10000005   10000005        2017-10-03          C449                 C44   \n",
      "5  10000006   10000006        2015-06-04          C440                 C44   \n",
      "6  10000007   10000007        2014-02-13          C449                 C44   \n",
      "7  10000008   10000008        2015-01-27          C449                 C44   \n",
      "8  10000009   10000009        2016-06-23          C449                 C44   \n",
      "9  10000010   10000010        2014-12-05          C443                 C44   \n",
      "\n",
      "  MORPH_ICD10_O2 BEHAVIOUR_ICD10_O2 T_BEST N_BEST M_BEST  ...  \\\n",
      "0         8070.0                  3      1   None   None  ...   \n",
      "1         8090.0                  3   None   None   None  ...   \n",
      "2         8070.0                  3   None   None   None  ...   \n",
      "3         8090.0                  3   None   None   None  ...   \n",
      "4         8090.0                  3   None   None   None  ...   \n",
      "5         8090.0                  3   None   None   None  ...   \n",
      "6         8090.0                  3   None   None   None  ...   \n",
      "7         8090.0                  3   None   None   None  ...   \n",
      "8         8090.0                  3   None   None   None  ...   \n",
      "9         8090.0                  3   None   None   None  ...   \n",
      "\n",
      "  PERFORMANCESTATUS   CNS ACE27  GLEASON_PRIMARY  GLEASON_SECONDARY  \\\n",
      "0              None  None  None             None               None   \n",
      "1              None  None  None             None               None   \n",
      "2              None  None  None             None               None   \n",
      "3              None  None  None             None               None   \n",
      "4              None  None  None             None               None   \n",
      "5              None  None  None             None               None   \n",
      "6              None  None  None             None               None   \n",
      "7              None  None  None             None               None   \n",
      "8                 0  None     9             None               None   \n",
      "9              None  None  None             None               None   \n",
      "\n",
      "  GLEASON_TERTIARY  GLEASON_COMBINED DATE_FIRST_SURGERY LATERALITY  \\\n",
      "0             None              None         2017-04-24          R   \n",
      "1             None              None         2018-05-14          9   \n",
      "2             None              None         2017-01-13          R   \n",
      "3             None              None         2016-01-08          9   \n",
      "4             None              None               None          9   \n",
      "5             None              None         2015-06-04          9   \n",
      "6             None              None               None          9   \n",
      "7             None              None               None          9   \n",
      "8             None              None         2016-06-23          9   \n",
      "9             None              None         2014-12-05          L   \n",
      "\n",
      "        QUINTILE_2015  \n",
      "0                   4  \n",
      "1                   2  \n",
      "2  1 - least deprived  \n",
      "3  1 - least deprived  \n",
      "4  1 - least deprived  \n",
      "5   5 - most deprived  \n",
      "6                   2  \n",
      "7  1 - least deprived  \n",
      "8                   4  \n",
      "9                   3  \n",
      "\n",
      "[10 rows x 34 columns]\n"
     ]
    }
   ],
   "source": [
    "#explore the data\n",
    "av_tumour = pd.read_csv(r'data\\sim_av_tumour.csv')\n",
    "querye2 = \"\"\"\n",
    "select * from av_tumour\n",
    "limit 10;\n",
    "\"\"\"\n",
    "resulte2 = pql.sqldf(querye2, locals())\n",
    "print(resulte2)"
   ]
  },
  {
   "cell_type": "code",
   "execution_count": 14,
   "id": "21a28cba",
   "metadata": {},
   "outputs": [
    {
     "name": "stdout",
     "output_type": "stream",
     "text": [
      "   Cohort_Count\n",
      "0        226379\n"
     ]
    }
   ],
   "source": [
    "#cohort selection\n",
    "query4 = \"\"\"\n",
    "SELECT \n",
    "    COUNT(*) AS Cohort_Count\n",
    "    FROM (\n",
    "    SELECT PATIENTID,TUMOURID,DIAGNOSISDATEBEST,AGE,SEX\n",
    "    FROM av_tumour\n",
    "    WHERE SITE_ICD10_O2_3CHAR like 'C50%'\n",
    "    AND DIAGNOSISDATEBEST BETWEEN '2010-01-01' AND '2020-12-31'\n",
    "    AND AGE >= 18\n",
    ") AS Cohort;\n",
    "\"\"\"\n",
    "result4 = pql.sqldf(query4, locals())\n",
    "print(result4)"
   ]
  },
  {
   "cell_type": "code",
   "execution_count": 15,
   "id": "c6f7d9a4",
   "metadata": {},
   "outputs": [
    {
     "name": "stderr",
     "output_type": "stream",
     "text": [
      "C:\\Users\\sahal\\AppData\\Local\\Temp\\ipykernel_13348\\3499063487.py:3: DtypeWarning: Columns (5) have mixed types. Specify dtype option on import or set low_memory=False.\n",
      "  sact_cycle = pd.read_csv(r'data\\sim_sact_cycle.csv')\n"
     ]
    }
   ],
   "source": [
    "sact_outcomes = pd.read_csv(r'data\\sim_sact_outcome.csv')\n",
    "sact_regimens = pd.read_csv(r'data\\sim_sact_regimen.csv')\n",
    "sact_cycle = pd.read_csv(r'data\\sim_sact_cycle.csv')\n",
    "sact_tumour = pd.read_csv(r'data\\sim_sact_tumour.csv')\n",
    "sact_drug_detail = pd.read_csv(r'data\\sim_sact_drug_detail.csv')"
   ]
  },
  {
   "cell_type": "code",
   "execution_count": 16,
   "id": "8a2fca90",
   "metadata": {},
   "outputs": [
    {
     "name": "stdout",
     "output_type": "stream",
     "text": [
      "   MERGED_REGIMEN_ID  MERGED_TUMOUR_ID  HEIGHT_AT_START_OF_REGIMEN  \\\n",
      "0           10000001          10000001                        1.72   \n",
      "1           10000002          10000002                        1.77   \n",
      "2           10000003          10000003                        1.70   \n",
      "3           10000004          10000004                        1.58   \n",
      "4           10000005          10000005                        1.71   \n",
      "5           10000006          10000006                        1.85   \n",
      "6           10000007          10000007                        1.67   \n",
      "7           10000008          10000007                        1.66   \n",
      "8           10000009          10000008                        1.79   \n",
      "9           10000010          10000008                        1.75   \n",
      "\n",
      "   WEIGHT_AT_START_OF_REGIMEN INTENT_OF_TREATMENT DATE_DECISION_TO_TREAT  \\\n",
      "0                        71.0                   C             2015-10-13   \n",
      "1                        68.4                   P             2014-07-01   \n",
      "2                        83.0                None                   None   \n",
      "3                        67.4                   P             2016-10-27   \n",
      "4                        72.0                   A             2017-02-25   \n",
      "5                       110.0                   A             2015-08-17   \n",
      "6                        60.7                   C             2016-10-02   \n",
      "7                        77.4                   C             2015-05-06   \n",
      "8                        72.2                   A             2016-10-27   \n",
      "9                        60.6                   C             2014-05-16   \n",
      "\n",
      "  START_DATE_OF_REGIMEN                    MAPPED_REGIMEN CLINICAL_TRIAL  \\\n",
      "0            2015-10-14                            CHOP R              N   \n",
      "1            2015-01-12          Carboplatin + Pemetrexed              N   \n",
      "2            2015-11-18  Capecitabine + Oxaliplatin 21day              N   \n",
      "3            2016-11-18          Carboplatin + Pemetrexed              N   \n",
      "4            2017-02-25     Carboplatin + Etoposide iv&po              N   \n",
      "5            2015-08-17                      Capecitabine              N   \n",
      "6            2016-10-09                  CHOP R - 21 days              N   \n",
      "7            2015-05-06                            CHOP R             02   \n",
      "8            2016-10-27                      Capecitabine              N   \n",
      "9            2014-05-16                  CHOP R - 21 days             02   \n",
      "\n",
      "  CHEMO_RADIATION  MERGED_PATIENT_ID             BENCHMARK_GROUP  \n",
      "0               N           10007761                      CHOP R  \n",
      "1               N           10016805    CARBOPLATIN + PEMETREXED  \n",
      "2               Y           10018778  CAPECITABINE + OXALIPLATIN  \n",
      "3               N           10019027    CARBOPLATIN + PEMETREXED  \n",
      "4               N           10019936     CARBOPLATIN + ETOPOSIDE  \n",
      "5               N           10034731                CAPECITABINE  \n",
      "6               N           10036202                      CHOP R  \n",
      "7               N           10036202                      CHOP R  \n",
      "8               N           10038043                CAPECITABINE  \n",
      "9               N           10038043                      CHOP R  \n"
     ]
    }
   ],
   "source": [
    "querye3 = \"\"\"\n",
    "SELECT * from sact_regimens\n",
    "limit 10;\n",
    "\"\"\"\n",
    "resulte3 = pql.sqldf(querye3, locals())\n",
    "print(resulte3)"
   ]
  },
  {
   "cell_type": "code",
   "execution_count": 17,
   "id": "f6ff4083",
   "metadata": {},
   "outputs": [
    {
     "name": "stdout",
     "output_type": "stream",
     "text": [
      "   MERGED_CYCLE_ID  MERGED_REGIMEN_ID  CYCLE_NUMBER START_DATE_OF_CYCLE  \\\n",
      "0         10000001           10000001             1          2015-10-14   \n",
      "1         10000002           10000002             1          2015-01-12   \n",
      "2         10000003           10000003             1          2015-11-18   \n",
      "3         10000004           10000004             1          2016-11-18   \n",
      "4         10000005           10000005             1          2017-02-25   \n",
      "5         10000006           10000006             2          2015-09-11   \n",
      "6         10000007           10000007             1          2016-10-09   \n",
      "7         10000008           10000008             1          2015-05-06   \n",
      "8         10000009           10000009             1          2016-10-27   \n",
      "9         10000010           10000010             1          2014-05-16   \n",
      "\n",
      "  OPCS_PROCUREMENT_CODE PERF_STATUS_START_OF_CYCLE  MERGED_PATIENT_ID  \\\n",
      "0                  None                       None           10007761   \n",
      "1                  X711                       None           10016805   \n",
      "2                  X703                          1           10018778   \n",
      "3                  X714                          0           10019027   \n",
      "4                  X714                          0           10019936   \n",
      "5                  X714                          4           10034731   \n",
      "6                  X702                          2           10036202   \n",
      "7                  X714                       None           10036202   \n",
      "8                  None                       None           10038043   \n",
      "9                  X702                          2           10038043   \n",
      "\n",
      "   MERGED_TUMOUR_ID  \n",
      "0          10000001  \n",
      "1          10000002  \n",
      "2          10000003  \n",
      "3          10000004  \n",
      "4          10000005  \n",
      "5          10000006  \n",
      "6          10000007  \n",
      "7          10000007  \n",
      "8          10000008  \n",
      "9          10000008  \n"
     ]
    }
   ],
   "source": [
    "querye4 = \"\"\"\n",
    "SELECT * from sact_cycle\n",
    "limit 10;\n",
    "\"\"\"\n",
    "resulte4 = pql.sqldf(querye4, locals()) \n",
    "print(resulte4)"
   ]
  },
  {
   "cell_type": "code",
   "execution_count": null,
   "id": "77b6a7e1",
   "metadata": {},
   "outputs": [
    {
     "name": "stdout",
     "output_type": "stream",
     "text": [
      "        PATIENTID  MERGED_REGIMEN_ID                          MAPPED_REGIMEN  \\\n",
      "0        10331133           10005191                Capecitabine + Mitomycin   \n",
      "1        10331857           10005193                  Mitomycin Intravesical   \n",
      "2        10334435           10001163                            Capecitabine   \n",
      "3        10334435           10001164                        CHOP R - 21 days   \n",
      "4        10334435           10006038    Rituximab (SUBCUTANEOUS Maintenance)   \n",
      "...           ...                ...                                     ...   \n",
      "153335  330020797          330011074                        CYCLOPHOSPHAMIDE   \n",
      "153336  330020797          330012034  GEMCITABINE + OXALIPLATIN + PACLITAXEL   \n",
      "153337  330024216          330006128                                    VeIP   \n",
      "153338  330024216          330006130                        CHOP R - 21 days   \n",
      "153339  330024216          330006129             Methotrexate + Folinic acid   \n",
      "\n",
      "       START_DATE_OF_REGIMEN  CYCLE_COUNT  \n",
      "0                 2015-07-09            1  \n",
      "1                 2018-05-23           17  \n",
      "2                 2016-03-02            1  \n",
      "3                 2016-06-23            5  \n",
      "4                 2016-08-10            8  \n",
      "...                      ...          ...  \n",
      "153335            2017-12-18            6  \n",
      "153336            2018-02-01            2  \n",
      "153337            2014-10-31            2  \n",
      "153338            2015-11-04            2  \n",
      "153339            2018-02-20            5  \n",
      "\n",
      "[153340 rows x 5 columns]\n"
     ]
    }
   ],
   "source": [
    "#Drug administered/cycles administered\n",
    "query5 =\"\"\" \n",
    "SELECT\n",
    "    BP.PATIENTID,\n",
    "    SR.MERGED_REGIMEN_ID,\n",
    "    SR.MAPPED_REGIMEN,\n",
    "    SR.START_DATE_OF_REGIMEN,\n",
    "    COUNT(SC.MERGED_CYCLE_ID) AS CYCLE_COUNT\n",
    "FROM (\n",
    "    SELECT *\n",
    "    FROM av_tumour\n",
    "    WHERE SITE_ICD10_O2_3CHAR like 'C50%'\n",
    "      AND DIAGNOSISDATEBEST BETWEEN '2010-01-01' AND '2020-12-31'\n",
    "      AND AGE >= 18\n",
    ") AS BP\n",
    "JOIN sact_patients AS SP ON BP.PATIENTID = SP.MERGED_PATIENT_ID\n",
    "JOIN sact_tumour AS ST ON BP.PATIENTID = ST.MERGED_PATIENT_ID\n",
    "JOIN sact_regimens AS SR ON ST.MERGED_TUMOUR_ID = SR.MERGED_TUMOUR_ID\n",
    "LEFT JOIN sact_cycle AS SC ON SR.MERGED_REGIMEN_ID = SC.MERGED_REGIMEN_ID\n",
    "GROUP BY BP.PATIENTID, SR.MERGED_REGIMEN_ID, SR.MAPPED_REGIMEN, SR.START_DATE_OF_REGIMEN\n",
    "ORDER BY BP.PATIENTID, SR.START_DATE_OF_REGIMEN;\n",
    "\"\"\" \n",
    "result5 = pql.sqldf(query5, locals())   \n",
    "print(result5)\n"
   ]
  },
  {
   "cell_type": "code",
   "execution_count": null,
   "id": "a39c7974",
   "metadata": {},
   "outputs": [
    {
     "ename": "PandaSQLException",
     "evalue": "(sqlite3.OperationalError) no such column: day\n[SQL: \n\nSELECT\n    BCT.PATIENTID,\n    BCT.MERGED_REGIMEN_ID,\n    BCT.MAPPED_REGIMEN,\n    BCT.START_DATE_OF_REGIMEN,\n    BCT.MERGED_CYCLE_ID,\n    BCT.CYCLE_NUMBER,\n    BCT.CYCLE_START_DATE,\n    LEAD(BCT.CYCLE_START_DATE) OVER (\n        PARTITION BY BCT.PATIENTID, BCT.MERGED_REGIMEN_ID \n        ORDER BY BCT.CYCLE_START_DATE\n    ) AS NEXT_CYCLE_START_DATE,\n    DATEDIFF(day, BCT.CYCLE_START_DATE, \n        LEAD(BCT.CYCLE_START_DATE) OVER (PARTITION BY BCT.PATIENTID, BCT.MERGED_REGIMEN_ID \n        ORDER BY BCT.CYCLE_START_DATE\n        )\n    ) AS DAYS_TO_NEXT_CYCLE\nFROM  (SELECT\n        BP.PATIENTID,\n        SR.MERGED_REGIMEN_ID,\n        SR.MAPPED_REGIMEN,\n        SR.START_DATE_OF_REGIMEN,\n        SC.MERGED_CYCLE_ID,\n        SC.START_DATE_OF_CYCLE AS CYCLE_START_DATE,\n        SC.CYCLE_NUMBER\n    FROM (\n        SELECT *\n        FROM av_tumour\n        WHERE SITE_ICD10_O2_3CHAR like 'C50%'\n          AND DIAGNOSISDATEBEST BETWEEN '2010-01-01' AND '2020-12-31'\n          AND AGE >= 18\n    ) AS BP\n    JOIN sact_patients AS SP ON BP.PATIENTID = SP.MERGED_PATIENT_ID\n    JOIN sact_tumour AS ST ON BP.PATIENTID = ST.MERGED_PATIENT_ID\n    JOIN sact_regimens AS SR ON ST.MERGED_TUMOUR_ID = SR.MERGED_TUMOUR_ID\n    JOIN sact_cycle AS SC ON SR.MERGED_REGIMEN_ID = SC.MERGED_REGIMEN_ID)\n As BCT\nORDER BY BCT.PATIENTID, BCT.MERGED_REGIMEN_ID, BCT.CYCLE_START_DATE;\n]\n(Background on this error at: https://sqlalche.me/e/20/e3q8)",
     "output_type": "error",
     "traceback": [
      "\u001b[1;31m---------------------------------------------------------------------------\u001b[0m",
      "\u001b[1;31mOperationalError\u001b[0m                          Traceback (most recent call last)",
      "File \u001b[1;32mc:\\Projects\\DiamondPricePrediction\\denv\\Lib\\site-packages\\sqlalchemy\\engine\\base.py:1964\u001b[0m, in \u001b[0;36mConnection._exec_single_context\u001b[1;34m(self, dialect, context, statement, parameters)\u001b[0m\n\u001b[0;32m   1963\u001b[0m     \u001b[38;5;28;01mif\u001b[39;00m \u001b[38;5;129;01mnot\u001b[39;00m evt_handled:\n\u001b[1;32m-> 1964\u001b[0m         \u001b[38;5;28;43mself\u001b[39;49m\u001b[38;5;241;43m.\u001b[39;49m\u001b[43mdialect\u001b[49m\u001b[38;5;241;43m.\u001b[39;49m\u001b[43mdo_execute\u001b[49m\u001b[43m(\u001b[49m\n\u001b[0;32m   1965\u001b[0m \u001b[43m            \u001b[49m\u001b[43mcursor\u001b[49m\u001b[43m,\u001b[49m\u001b[43m \u001b[49m\u001b[43mstr_statement\u001b[49m\u001b[43m,\u001b[49m\u001b[43m \u001b[49m\u001b[43meffective_parameters\u001b[49m\u001b[43m,\u001b[49m\u001b[43m \u001b[49m\u001b[43mcontext\u001b[49m\n\u001b[0;32m   1966\u001b[0m \u001b[43m        \u001b[49m\u001b[43m)\u001b[49m\n\u001b[0;32m   1968\u001b[0m \u001b[38;5;28;01mif\u001b[39;00m \u001b[38;5;28mself\u001b[39m\u001b[38;5;241m.\u001b[39m_has_events \u001b[38;5;129;01mor\u001b[39;00m \u001b[38;5;28mself\u001b[39m\u001b[38;5;241m.\u001b[39mengine\u001b[38;5;241m.\u001b[39m_has_events:\n",
      "File \u001b[1;32mc:\\Projects\\DiamondPricePrediction\\denv\\Lib\\site-packages\\sqlalchemy\\engine\\default.py:945\u001b[0m, in \u001b[0;36mDefaultDialect.do_execute\u001b[1;34m(self, cursor, statement, parameters, context)\u001b[0m\n\u001b[0;32m    944\u001b[0m \u001b[38;5;28;01mdef\u001b[39;00m \u001b[38;5;21mdo_execute\u001b[39m(\u001b[38;5;28mself\u001b[39m, cursor, statement, parameters, context\u001b[38;5;241m=\u001b[39m\u001b[38;5;28;01mNone\u001b[39;00m):\n\u001b[1;32m--> 945\u001b[0m     \u001b[43mcursor\u001b[49m\u001b[38;5;241;43m.\u001b[39;49m\u001b[43mexecute\u001b[49m\u001b[43m(\u001b[49m\u001b[43mstatement\u001b[49m\u001b[43m,\u001b[49m\u001b[43m \u001b[49m\u001b[43mparameters\u001b[49m\u001b[43m)\u001b[49m\n",
      "\u001b[1;31mOperationalError\u001b[0m: no such column: day",
      "\nThe above exception was the direct cause of the following exception:\n",
      "\u001b[1;31mOperationalError\u001b[0m                          Traceback (most recent call last)",
      "File \u001b[1;32mc:\\Projects\\DiamondPricePrediction\\denv\\Lib\\site-packages\\pandasql\\sqldf.py:61\u001b[0m, in \u001b[0;36mPandaSQL.__call__\u001b[1;34m(self, query, env)\u001b[0m\n\u001b[0;32m     60\u001b[0m \u001b[38;5;28;01mtry\u001b[39;00m:\n\u001b[1;32m---> 61\u001b[0m     result \u001b[38;5;241m=\u001b[39m \u001b[43mread_sql\u001b[49m\u001b[43m(\u001b[49m\u001b[43mquery\u001b[49m\u001b[43m,\u001b[49m\u001b[43m \u001b[49m\u001b[43mconn\u001b[49m\u001b[43m)\u001b[49m\n\u001b[0;32m     62\u001b[0m \u001b[38;5;28;01mexcept\u001b[39;00m DatabaseError \u001b[38;5;28;01mas\u001b[39;00m ex:\n",
      "File \u001b[1;32mc:\\Projects\\DiamondPricePrediction\\denv\\Lib\\site-packages\\pandas\\io\\sql.py:734\u001b[0m, in \u001b[0;36mread_sql\u001b[1;34m(sql, con, index_col, coerce_float, params, parse_dates, columns, chunksize, dtype_backend, dtype)\u001b[0m\n\u001b[0;32m    733\u001b[0m \u001b[38;5;28;01melse\u001b[39;00m:\n\u001b[1;32m--> 734\u001b[0m     \u001b[38;5;28;01mreturn\u001b[39;00m \u001b[43mpandas_sql\u001b[49m\u001b[38;5;241;43m.\u001b[39;49m\u001b[43mread_query\u001b[49m\u001b[43m(\u001b[49m\n\u001b[0;32m    735\u001b[0m \u001b[43m        \u001b[49m\u001b[43msql\u001b[49m\u001b[43m,\u001b[49m\n\u001b[0;32m    736\u001b[0m \u001b[43m        \u001b[49m\u001b[43mindex_col\u001b[49m\u001b[38;5;241;43m=\u001b[39;49m\u001b[43mindex_col\u001b[49m\u001b[43m,\u001b[49m\n\u001b[0;32m    737\u001b[0m \u001b[43m        \u001b[49m\u001b[43mparams\u001b[49m\u001b[38;5;241;43m=\u001b[39;49m\u001b[43mparams\u001b[49m\u001b[43m,\u001b[49m\n\u001b[0;32m    738\u001b[0m \u001b[43m        \u001b[49m\u001b[43mcoerce_float\u001b[49m\u001b[38;5;241;43m=\u001b[39;49m\u001b[43mcoerce_float\u001b[49m\u001b[43m,\u001b[49m\n\u001b[0;32m    739\u001b[0m \u001b[43m        \u001b[49m\u001b[43mparse_dates\u001b[49m\u001b[38;5;241;43m=\u001b[39;49m\u001b[43mparse_dates\u001b[49m\u001b[43m,\u001b[49m\n\u001b[0;32m    740\u001b[0m \u001b[43m        \u001b[49m\u001b[43mchunksize\u001b[49m\u001b[38;5;241;43m=\u001b[39;49m\u001b[43mchunksize\u001b[49m\u001b[43m,\u001b[49m\n\u001b[0;32m    741\u001b[0m \u001b[43m        \u001b[49m\u001b[43mdtype_backend\u001b[49m\u001b[38;5;241;43m=\u001b[39;49m\u001b[43mdtype_backend\u001b[49m\u001b[43m,\u001b[49m\n\u001b[0;32m    742\u001b[0m \u001b[43m        \u001b[49m\u001b[43mdtype\u001b[49m\u001b[38;5;241;43m=\u001b[39;49m\u001b[43mdtype\u001b[49m\u001b[43m,\u001b[49m\n\u001b[0;32m    743\u001b[0m \u001b[43m    \u001b[49m\u001b[43m)\u001b[49m\n",
      "File \u001b[1;32mc:\\Projects\\DiamondPricePrediction\\denv\\Lib\\site-packages\\pandas\\io\\sql.py:1836\u001b[0m, in \u001b[0;36mSQLDatabase.read_query\u001b[1;34m(self, sql, index_col, coerce_float, parse_dates, params, chunksize, dtype, dtype_backend)\u001b[0m\n\u001b[0;32m   1790\u001b[0m \u001b[38;5;250m\u001b[39m\u001b[38;5;124;03m\"\"\"\u001b[39;00m\n\u001b[0;32m   1791\u001b[0m \u001b[38;5;124;03mRead SQL query into a DataFrame.\u001b[39;00m\n\u001b[0;32m   1792\u001b[0m \n\u001b[1;32m   (...)\u001b[0m\n\u001b[0;32m   1834\u001b[0m \n\u001b[0;32m   1835\u001b[0m \u001b[38;5;124;03m\"\"\"\u001b[39;00m\n\u001b[1;32m-> 1836\u001b[0m result \u001b[38;5;241m=\u001b[39m \u001b[38;5;28;43mself\u001b[39;49m\u001b[38;5;241;43m.\u001b[39;49m\u001b[43mexecute\u001b[49m\u001b[43m(\u001b[49m\u001b[43msql\u001b[49m\u001b[43m,\u001b[49m\u001b[43m \u001b[49m\u001b[43mparams\u001b[49m\u001b[43m)\u001b[49m\n\u001b[0;32m   1837\u001b[0m columns \u001b[38;5;241m=\u001b[39m result\u001b[38;5;241m.\u001b[39mkeys()\n",
      "File \u001b[1;32mc:\\Projects\\DiamondPricePrediction\\denv\\Lib\\site-packages\\pandas\\io\\sql.py:1659\u001b[0m, in \u001b[0;36mSQLDatabase.execute\u001b[1;34m(self, sql, params)\u001b[0m\n\u001b[0;32m   1658\u001b[0m \u001b[38;5;28;01mif\u001b[39;00m \u001b[38;5;28misinstance\u001b[39m(sql, \u001b[38;5;28mstr\u001b[39m):\n\u001b[1;32m-> 1659\u001b[0m     \u001b[38;5;28;01mreturn\u001b[39;00m \u001b[38;5;28;43mself\u001b[39;49m\u001b[38;5;241;43m.\u001b[39;49m\u001b[43mcon\u001b[49m\u001b[38;5;241;43m.\u001b[39;49m\u001b[43mexec_driver_sql\u001b[49m\u001b[43m(\u001b[49m\u001b[43msql\u001b[49m\u001b[43m,\u001b[49m\u001b[43m \u001b[49m\u001b[38;5;241;43m*\u001b[39;49m\u001b[43margs\u001b[49m\u001b[43m)\u001b[49m\n\u001b[0;32m   1660\u001b[0m \u001b[38;5;28;01mreturn\u001b[39;00m \u001b[38;5;28mself\u001b[39m\u001b[38;5;241m.\u001b[39mcon\u001b[38;5;241m.\u001b[39mexecute(sql, \u001b[38;5;241m*\u001b[39margs)\n",
      "File \u001b[1;32mc:\\Projects\\DiamondPricePrediction\\denv\\Lib\\site-packages\\sqlalchemy\\engine\\base.py:1776\u001b[0m, in \u001b[0;36mConnection.exec_driver_sql\u001b[1;34m(self, statement, parameters, execution_options)\u001b[0m\n\u001b[0;32m   1775\u001b[0m dialect \u001b[38;5;241m=\u001b[39m \u001b[38;5;28mself\u001b[39m\u001b[38;5;241m.\u001b[39mdialect\n\u001b[1;32m-> 1776\u001b[0m ret \u001b[38;5;241m=\u001b[39m \u001b[38;5;28;43mself\u001b[39;49m\u001b[38;5;241;43m.\u001b[39;49m\u001b[43m_execute_context\u001b[49m\u001b[43m(\u001b[49m\n\u001b[0;32m   1777\u001b[0m \u001b[43m    \u001b[49m\u001b[43mdialect\u001b[49m\u001b[43m,\u001b[49m\n\u001b[0;32m   1778\u001b[0m \u001b[43m    \u001b[49m\u001b[43mdialect\u001b[49m\u001b[38;5;241;43m.\u001b[39;49m\u001b[43mexecution_ctx_cls\u001b[49m\u001b[38;5;241;43m.\u001b[39;49m\u001b[43m_init_statement\u001b[49m\u001b[43m,\u001b[49m\n\u001b[0;32m   1779\u001b[0m \u001b[43m    \u001b[49m\u001b[43mstatement\u001b[49m\u001b[43m,\u001b[49m\n\u001b[0;32m   1780\u001b[0m \u001b[43m    \u001b[49m\u001b[38;5;28;43;01mNone\u001b[39;49;00m\u001b[43m,\u001b[49m\n\u001b[0;32m   1781\u001b[0m \u001b[43m    \u001b[49m\u001b[43mexecution_options\u001b[49m\u001b[43m,\u001b[49m\n\u001b[0;32m   1782\u001b[0m \u001b[43m    \u001b[49m\u001b[43mstatement\u001b[49m\u001b[43m,\u001b[49m\n\u001b[0;32m   1783\u001b[0m \u001b[43m    \u001b[49m\u001b[43mdistilled_parameters\u001b[49m\u001b[43m,\u001b[49m\n\u001b[0;32m   1784\u001b[0m \u001b[43m\u001b[49m\u001b[43m)\u001b[49m\n\u001b[0;32m   1786\u001b[0m \u001b[38;5;28;01mreturn\u001b[39;00m ret\n",
      "File \u001b[1;32mc:\\Projects\\DiamondPricePrediction\\denv\\Lib\\site-packages\\sqlalchemy\\engine\\base.py:1843\u001b[0m, in \u001b[0;36mConnection._execute_context\u001b[1;34m(self, dialect, constructor, statement, parameters, execution_options, *args, **kw)\u001b[0m\n\u001b[0;32m   1842\u001b[0m \u001b[38;5;28;01melse\u001b[39;00m:\n\u001b[1;32m-> 1843\u001b[0m     \u001b[38;5;28;01mreturn\u001b[39;00m \u001b[38;5;28;43mself\u001b[39;49m\u001b[38;5;241;43m.\u001b[39;49m\u001b[43m_exec_single_context\u001b[49m\u001b[43m(\u001b[49m\n\u001b[0;32m   1844\u001b[0m \u001b[43m        \u001b[49m\u001b[43mdialect\u001b[49m\u001b[43m,\u001b[49m\u001b[43m \u001b[49m\u001b[43mcontext\u001b[49m\u001b[43m,\u001b[49m\u001b[43m \u001b[49m\u001b[43mstatement\u001b[49m\u001b[43m,\u001b[49m\u001b[43m \u001b[49m\u001b[43mparameters\u001b[49m\n\u001b[0;32m   1845\u001b[0m \u001b[43m    \u001b[49m\u001b[43m)\u001b[49m\n",
      "File \u001b[1;32mc:\\Projects\\DiamondPricePrediction\\denv\\Lib\\site-packages\\sqlalchemy\\engine\\base.py:1983\u001b[0m, in \u001b[0;36mConnection._exec_single_context\u001b[1;34m(self, dialect, context, statement, parameters)\u001b[0m\n\u001b[0;32m   1982\u001b[0m \u001b[38;5;28;01mexcept\u001b[39;00m \u001b[38;5;167;01mBaseException\u001b[39;00m \u001b[38;5;28;01mas\u001b[39;00m e:\n\u001b[1;32m-> 1983\u001b[0m     \u001b[38;5;28;43mself\u001b[39;49m\u001b[38;5;241;43m.\u001b[39;49m\u001b[43m_handle_dbapi_exception\u001b[49m\u001b[43m(\u001b[49m\n\u001b[0;32m   1984\u001b[0m \u001b[43m        \u001b[49m\u001b[43me\u001b[49m\u001b[43m,\u001b[49m\u001b[43m \u001b[49m\u001b[43mstr_statement\u001b[49m\u001b[43m,\u001b[49m\u001b[43m \u001b[49m\u001b[43meffective_parameters\u001b[49m\u001b[43m,\u001b[49m\u001b[43m \u001b[49m\u001b[43mcursor\u001b[49m\u001b[43m,\u001b[49m\u001b[43m \u001b[49m\u001b[43mcontext\u001b[49m\n\u001b[0;32m   1985\u001b[0m \u001b[43m    \u001b[49m\u001b[43m)\u001b[49m\n\u001b[0;32m   1987\u001b[0m \u001b[38;5;28;01mreturn\u001b[39;00m result\n",
      "File \u001b[1;32mc:\\Projects\\DiamondPricePrediction\\denv\\Lib\\site-packages\\sqlalchemy\\engine\\base.py:2352\u001b[0m, in \u001b[0;36mConnection._handle_dbapi_exception\u001b[1;34m(self, e, statement, parameters, cursor, context, is_sub_exec)\u001b[0m\n\u001b[0;32m   2351\u001b[0m     \u001b[38;5;28;01massert\u001b[39;00m sqlalchemy_exception \u001b[38;5;129;01mis\u001b[39;00m \u001b[38;5;129;01mnot\u001b[39;00m \u001b[38;5;28;01mNone\u001b[39;00m\n\u001b[1;32m-> 2352\u001b[0m     \u001b[38;5;28;01mraise\u001b[39;00m sqlalchemy_exception\u001b[38;5;241m.\u001b[39mwith_traceback(exc_info[\u001b[38;5;241m2\u001b[39m]) \u001b[38;5;28;01mfrom\u001b[39;00m \u001b[38;5;21;01me\u001b[39;00m\n\u001b[0;32m   2353\u001b[0m \u001b[38;5;28;01melse\u001b[39;00m:\n",
      "File \u001b[1;32mc:\\Projects\\DiamondPricePrediction\\denv\\Lib\\site-packages\\sqlalchemy\\engine\\base.py:1964\u001b[0m, in \u001b[0;36mConnection._exec_single_context\u001b[1;34m(self, dialect, context, statement, parameters)\u001b[0m\n\u001b[0;32m   1963\u001b[0m     \u001b[38;5;28;01mif\u001b[39;00m \u001b[38;5;129;01mnot\u001b[39;00m evt_handled:\n\u001b[1;32m-> 1964\u001b[0m         \u001b[38;5;28;43mself\u001b[39;49m\u001b[38;5;241;43m.\u001b[39;49m\u001b[43mdialect\u001b[49m\u001b[38;5;241;43m.\u001b[39;49m\u001b[43mdo_execute\u001b[49m\u001b[43m(\u001b[49m\n\u001b[0;32m   1965\u001b[0m \u001b[43m            \u001b[49m\u001b[43mcursor\u001b[49m\u001b[43m,\u001b[49m\u001b[43m \u001b[49m\u001b[43mstr_statement\u001b[49m\u001b[43m,\u001b[49m\u001b[43m \u001b[49m\u001b[43meffective_parameters\u001b[49m\u001b[43m,\u001b[49m\u001b[43m \u001b[49m\u001b[43mcontext\u001b[49m\n\u001b[0;32m   1966\u001b[0m \u001b[43m        \u001b[49m\u001b[43m)\u001b[49m\n\u001b[0;32m   1968\u001b[0m \u001b[38;5;28;01mif\u001b[39;00m \u001b[38;5;28mself\u001b[39m\u001b[38;5;241m.\u001b[39m_has_events \u001b[38;5;129;01mor\u001b[39;00m \u001b[38;5;28mself\u001b[39m\u001b[38;5;241m.\u001b[39mengine\u001b[38;5;241m.\u001b[39m_has_events:\n",
      "File \u001b[1;32mc:\\Projects\\DiamondPricePrediction\\denv\\Lib\\site-packages\\sqlalchemy\\engine\\default.py:945\u001b[0m, in \u001b[0;36mDefaultDialect.do_execute\u001b[1;34m(self, cursor, statement, parameters, context)\u001b[0m\n\u001b[0;32m    944\u001b[0m \u001b[38;5;28;01mdef\u001b[39;00m \u001b[38;5;21mdo_execute\u001b[39m(\u001b[38;5;28mself\u001b[39m, cursor, statement, parameters, context\u001b[38;5;241m=\u001b[39m\u001b[38;5;28;01mNone\u001b[39;00m):\n\u001b[1;32m--> 945\u001b[0m     \u001b[43mcursor\u001b[49m\u001b[38;5;241;43m.\u001b[39;49m\u001b[43mexecute\u001b[49m\u001b[43m(\u001b[49m\u001b[43mstatement\u001b[49m\u001b[43m,\u001b[49m\u001b[43m \u001b[49m\u001b[43mparameters\u001b[49m\u001b[43m)\u001b[49m\n",
      "\u001b[1;31mOperationalError\u001b[0m: (sqlite3.OperationalError) no such column: day\n[SQL: \n\nSELECT\n    BCT.PATIENTID,\n    BCT.MERGED_REGIMEN_ID,\n    BCT.MAPPED_REGIMEN,\n    BCT.START_DATE_OF_REGIMEN,\n    BCT.MERGED_CYCLE_ID,\n    BCT.CYCLE_NUMBER,\n    BCT.CYCLE_START_DATE,\n    LEAD(BCT.CYCLE_START_DATE) OVER (\n        PARTITION BY BCT.PATIENTID, BCT.MERGED_REGIMEN_ID \n        ORDER BY BCT.CYCLE_START_DATE\n    ) AS NEXT_CYCLE_START_DATE,\n    DATEDIFF(day, BCT.CYCLE_START_DATE, \n        LEAD(BCT.CYCLE_START_DATE) OVER (PARTITION BY BCT.PATIENTID, BCT.MERGED_REGIMEN_ID \n        ORDER BY BCT.CYCLE_START_DATE\n        )\n    ) AS DAYS_TO_NEXT_CYCLE\nFROM  (SELECT\n        BP.PATIENTID,\n        SR.MERGED_REGIMEN_ID,\n        SR.MAPPED_REGIMEN,\n        SR.START_DATE_OF_REGIMEN,\n        SC.MERGED_CYCLE_ID,\n        SC.START_DATE_OF_CYCLE AS CYCLE_START_DATE,\n        SC.CYCLE_NUMBER\n    FROM (\n        SELECT *\n        FROM av_tumour\n        WHERE SITE_ICD10_O2_3CHAR like 'C50%'\n          AND DIAGNOSISDATEBEST BETWEEN '2010-01-01' AND '2020-12-31'\n          AND AGE >= 18\n    ) AS BP\n    JOIN sact_patients AS SP ON BP.PATIENTID = SP.MERGED_PATIENT_ID\n    JOIN sact_tumour AS ST ON BP.PATIENTID = ST.MERGED_PATIENT_ID\n    JOIN sact_regimens AS SR ON ST.MERGED_TUMOUR_ID = SR.MERGED_TUMOUR_ID\n    JOIN sact_cycle AS SC ON SR.MERGED_REGIMEN_ID = SC.MERGED_REGIMEN_ID)\n As BCT\nORDER BY BCT.PATIENTID, BCT.MERGED_REGIMEN_ID, BCT.CYCLE_START_DATE;\n]\n(Background on this error at: https://sqlalche.me/e/20/e3q8)",
      "\nDuring handling of the above exception, another exception occurred:\n",
      "\u001b[1;31mPandaSQLException\u001b[0m                         Traceback (most recent call last)",
      "Cell \u001b[1;32mIn[22], line 42\u001b[0m\n\u001b[0;32m      1\u001b[0m query6 \u001b[38;5;241m=\u001b[39m \u001b[38;5;124m\"\"\"\u001b[39m\n\u001b[0;32m      2\u001b[0m \n\u001b[0;32m      3\u001b[0m \u001b[38;5;124mSELECT\u001b[39m\n\u001b[1;32m   (...)\u001b[0m\n\u001b[0;32m     40\u001b[0m \u001b[38;5;124mORDER BY BCT.PATIENTID, BCT.MERGED_REGIMEN_ID, BCT.CYCLE_START_DATE;\u001b[39m\n\u001b[0;32m     41\u001b[0m \u001b[38;5;124m\"\"\"\u001b[39m\n\u001b[1;32m---> 42\u001b[0m result6 \u001b[38;5;241m=\u001b[39m \u001b[43mpql\u001b[49m\u001b[38;5;241;43m.\u001b[39;49m\u001b[43msqldf\u001b[49m\u001b[43m(\u001b[49m\u001b[43mquery6\u001b[49m\u001b[43m,\u001b[49m\u001b[43m \u001b[49m\u001b[38;5;28;43mlocals\u001b[39;49m\u001b[43m(\u001b[49m\u001b[43m)\u001b[49m\u001b[43m)\u001b[49m\n\u001b[0;32m     43\u001b[0m \u001b[38;5;28mprint\u001b[39m(result6)\n",
      "File \u001b[1;32mc:\\Projects\\DiamondPricePrediction\\denv\\Lib\\site-packages\\pandasql\\sqldf.py:156\u001b[0m, in \u001b[0;36msqldf\u001b[1;34m(query, env, db_uri)\u001b[0m\n\u001b[0;32m    124\u001b[0m \u001b[38;5;28;01mdef\u001b[39;00m \u001b[38;5;21msqldf\u001b[39m(query, env\u001b[38;5;241m=\u001b[39m\u001b[38;5;28;01mNone\u001b[39;00m, db_uri\u001b[38;5;241m=\u001b[39m\u001b[38;5;124m'\u001b[39m\u001b[38;5;124msqlite:///:memory:\u001b[39m\u001b[38;5;124m'\u001b[39m):\n\u001b[0;32m    125\u001b[0m \u001b[38;5;250m    \u001b[39m\u001b[38;5;124;03m\"\"\"\u001b[39;00m\n\u001b[0;32m    126\u001b[0m \u001b[38;5;124;03m    Query pandas data frames using sql syntax\u001b[39;00m\n\u001b[0;32m    127\u001b[0m \u001b[38;5;124;03m    This function is meant for backward compatibility only. New users are encouraged to use the PandaSQL class.\u001b[39;00m\n\u001b[1;32m   (...)\u001b[0m\n\u001b[0;32m    154\u001b[0m \u001b[38;5;124;03m    >>> sqldf(\"select avg(x) from df;\", locals())\u001b[39;00m\n\u001b[0;32m    155\u001b[0m \u001b[38;5;124;03m    \"\"\"\u001b[39;00m\n\u001b[1;32m--> 156\u001b[0m     \u001b[38;5;28;01mreturn\u001b[39;00m \u001b[43mPandaSQL\u001b[49m\u001b[43m(\u001b[49m\u001b[43mdb_uri\u001b[49m\u001b[43m)\u001b[49m\u001b[43m(\u001b[49m\u001b[43mquery\u001b[49m\u001b[43m,\u001b[49m\u001b[43m \u001b[49m\u001b[43menv\u001b[49m\u001b[43m)\u001b[49m\n",
      "File \u001b[1;32mc:\\Projects\\DiamondPricePrediction\\denv\\Lib\\site-packages\\pandasql\\sqldf.py:63\u001b[0m, in \u001b[0;36mPandaSQL.__call__\u001b[1;34m(self, query, env)\u001b[0m\n\u001b[0;32m     61\u001b[0m     result \u001b[38;5;241m=\u001b[39m read_sql(query, conn)\n\u001b[0;32m     62\u001b[0m \u001b[38;5;28;01mexcept\u001b[39;00m DatabaseError \u001b[38;5;28;01mas\u001b[39;00m ex:\n\u001b[1;32m---> 63\u001b[0m     \u001b[38;5;28;01mraise\u001b[39;00m PandaSQLException(ex)\n\u001b[0;32m     64\u001b[0m \u001b[38;5;28;01mexcept\u001b[39;00m ResourceClosedError:\n\u001b[0;32m     65\u001b[0m     \u001b[38;5;66;03m# query returns nothing\u001b[39;00m\n\u001b[0;32m     66\u001b[0m     result \u001b[38;5;241m=\u001b[39m \u001b[38;5;28;01mNone\u001b[39;00m\n",
      "\u001b[1;31mPandaSQLException\u001b[0m: (sqlite3.OperationalError) no such column: day\n[SQL: \n\nSELECT\n    BCT.PATIENTID,\n    BCT.MERGED_REGIMEN_ID,\n    BCT.MAPPED_REGIMEN,\n    BCT.START_DATE_OF_REGIMEN,\n    BCT.MERGED_CYCLE_ID,\n    BCT.CYCLE_NUMBER,\n    BCT.CYCLE_START_DATE,\n    LEAD(BCT.CYCLE_START_DATE) OVER (\n        PARTITION BY BCT.PATIENTID, BCT.MERGED_REGIMEN_ID \n        ORDER BY BCT.CYCLE_START_DATE\n    ) AS NEXT_CYCLE_START_DATE,\n    DATEDIFF(day, BCT.CYCLE_START_DATE, \n        LEAD(BCT.CYCLE_START_DATE) OVER (PARTITION BY BCT.PATIENTID, BCT.MERGED_REGIMEN_ID \n        ORDER BY BCT.CYCLE_START_DATE\n        )\n    ) AS DAYS_TO_NEXT_CYCLE\nFROM  (SELECT\n        BP.PATIENTID,\n        SR.MERGED_REGIMEN_ID,\n        SR.MAPPED_REGIMEN,\n        SR.START_DATE_OF_REGIMEN,\n        SC.MERGED_CYCLE_ID,\n        SC.START_DATE_OF_CYCLE AS CYCLE_START_DATE,\n        SC.CYCLE_NUMBER\n    FROM (\n        SELECT *\n        FROM av_tumour\n        WHERE SITE_ICD10_O2_3CHAR like 'C50%'\n          AND DIAGNOSISDATEBEST BETWEEN '2010-01-01' AND '2020-12-31'\n          AND AGE >= 18\n    ) AS BP\n    JOIN sact_patients AS SP ON BP.PATIENTID = SP.MERGED_PATIENT_ID\n    JOIN sact_tumour AS ST ON BP.PATIENTID = ST.MERGED_PATIENT_ID\n    JOIN sact_regimens AS SR ON ST.MERGED_TUMOUR_ID = SR.MERGED_TUMOUR_ID\n    JOIN sact_cycle AS SC ON SR.MERGED_REGIMEN_ID = SC.MERGED_REGIMEN_ID)\n As BCT\nORDER BY BCT.PATIENTID, BCT.MERGED_REGIMEN_ID, BCT.CYCLE_START_DATE;\n]\n(Background on this error at: https://sqlalche.me/e/20/e3q8)"
     ]
    }
   ],
   "source": [
    "\n",
    "query6 = \"\"\"\n",
    "\n",
    "SELECT\n",
    "    BCT.PATIENTID,\n",
    "    BCT.MERGED_REGIMEN_ID,\n",
    "    BCT.MAPPED_REGIMEN,\n",
    "    BCT.START_DATE_OF_REGIMEN,\n",
    "    BCT.MERGED_CYCLE_ID,\n",
    "    BCT.CYCLE_NUMBER,\n",
    "    BCT.CYCLE_START_DATE,\n",
    "    LEAD(BCT.CYCLE_START_DATE) OVER (\n",
    "        PARTITION BY BCT.PATIENTID, BCT.MERGED_REGIMEN_ID \n",
    "        ORDER BY BCT.CYCLE_START_DATE\n",
    "    ) AS NEXT_CYCLE_START_DATE,\n",
    "    DATEDIFF(day, BCT.CYCLE_START_DATE, \n",
    "        LEAD(BCT.CYCLE_START_DATE) OVER (PARTITION BY BCT.PATIENTID, BCT.MERGED_REGIMEN_ID \n",
    "        ORDER BY BCT.CYCLE_START_DATE\n",
    "        )\n",
    "    ) AS DAYS_TO_NEXT_CYCLE\n",
    "FROM  (SELECT\n",
    "        BP.PATIENTID,\n",
    "        SR.MERGED_REGIMEN_ID,\n",
    "        SR.MAPPED_REGIMEN,\n",
    "        SR.START_DATE_OF_REGIMEN,\n",
    "        SC.MERGED_CYCLE_ID,\n",
    "        SC.START_DATE_OF_CYCLE AS CYCLE_START_DATE,\n",
    "        SC.CYCLE_NUMBER\n",
    "    FROM (\n",
    "        SELECT *\n",
    "        FROM av_tumour\n",
    "        WHERE SITE_ICD10_O2_3CHAR like 'C50%'\n",
    "          AND DIAGNOSISDATEBEST BETWEEN '2010-01-01' AND '2020-12-31'\n",
    "          AND AGE >= 18\n",
    "    ) AS BP\n",
    "    JOIN sact_patients AS SP ON BP.PATIENTID = SP.MERGED_PATIENT_ID\n",
    "    JOIN sact_tumour AS ST ON BP.PATIENTID = ST.MERGED_PATIENT_ID\n",
    "    JOIN sact_regimens AS SR ON ST.MERGED_TUMOUR_ID = SR.MERGED_TUMOUR_ID\n",
    "    JOIN sact_cycle AS SC ON SR.MERGED_REGIMEN_ID = SC.MERGED_REGIMEN_ID)\n",
    " As BCT\n",
    "ORDER BY BCT.PATIENTID, BCT.MERGED_REGIMEN_ID, BCT.CYCLE_START_DATE;\n",
    "\"\"\"\n",
    "result6 = pql.sqldf(query6, locals())\n",
    "print(result6)"
   ]
  },
  {
   "cell_type": "code",
   "execution_count": null,
   "id": "cbb04c68",
   "metadata": {},
   "outputs": [
    {
     "name": "stdout",
     "output_type": "stream",
     "text": [
      "        PATIENTID  MERGED_REGIMEN_ID               MAPPED_REGIMEN  \\\n",
      "0        10331133           10005191     Capecitabine + Mitomycin   \n",
      "1        10331857           10005193       Mitomycin Intravesical   \n",
      "2        10331857           10005193       Mitomycin Intravesical   \n",
      "3        10331857           10005193       Mitomycin Intravesical   \n",
      "4        10331857           10005193       Mitomycin Intravesical   \n",
      "...           ...                ...                          ...   \n",
      "623031  330024216          330006129  Methotrexate + Folinic acid   \n",
      "623032  330024216          330006129  Methotrexate + Folinic acid   \n",
      "623033  330024216          330006129  Methotrexate + Folinic acid   \n",
      "623034  330024216          330006130             CHOP R - 21 days   \n",
      "623035  330024216          330006130             CHOP R - 21 days   \n",
      "\n",
      "       START_DATE_OF_REGIMEN  MERGED_CYCLE_ID  CYCLE_NUMBER CYCLE_START_DATE  \\\n",
      "0                 2015-07-09         10005191             1       2015-07-09   \n",
      "1                 2018-05-23         10026788             4             None   \n",
      "2                 2018-05-23         10028168             8             None   \n",
      "3                 2018-05-23         10029153            14             None   \n",
      "4                 2018-05-23         10029847             7             None   \n",
      "...                      ...              ...           ...              ...   \n",
      "623031            2018-02-20        330024018             6       2018-03-30   \n",
      "623032            2018-02-20        330028491             4       2018-04-22   \n",
      "623033            2018-02-20        330031432             5       2018-05-13   \n",
      "623034            2015-11-04        330006130             2             None   \n",
      "623035            2015-11-04        330017234             2             None   \n",
      "\n",
      "       NEXT_CYCLE_START_DATE  DAYS_TO_NEXT_CYCLE  \n",
      "0                       None                 NaN  \n",
      "1                       None                 NaN  \n",
      "2                       None                 NaN  \n",
      "3                       None                 NaN  \n",
      "4                       None                 NaN  \n",
      "...                      ...                 ...  \n",
      "623031            2018-04-22                23.0  \n",
      "623032            2018-05-13                21.0  \n",
      "623033                  None                 NaN  \n",
      "623034                  None                 NaN  \n",
      "623035                  None                 NaN  \n",
      "\n",
      "[623036 rows x 9 columns]\n"
     ]
    }
   ],
   "source": [
    "#To find the date for difference of next cycle\n",
    "#tailored the code to suit the date function in sql-lite\n",
    "\n",
    "query7 = \"\"\"\n",
    "SELECT\n",
    "    BCT.PATIENTID,\n",
    "    BCT.MERGED_REGIMEN_ID,\n",
    "    BCT.MAPPED_REGIMEN,\n",
    "    BCT.START_DATE_OF_REGIMEN,\n",
    "    BCT.MERGED_CYCLE_ID,\n",
    "    BCT.CYCLE_NUMBER,\n",
    "    BCT.CYCLE_START_DATE,\n",
    "    LEAD(BCT.CYCLE_START_DATE) OVER (\n",
    "        PARTITION BY BCT.PATIENTID, BCT.MERGED_REGIMEN_ID \n",
    "        ORDER BY BCT.CYCLE_START_DATE\n",
    "    ) AS NEXT_CYCLE_START_DATE,\n",
    "    CAST((julianday(LEAD(BCT.CYCLE_START_DATE) OVER (\n",
    "        PARTITION BY BCT.PATIENTID, BCT.MERGED_REGIMEN_ID \n",
    "        ORDER BY BCT.CYCLE_START_DATE\n",
    "    )) - julianday(BCT.CYCLE_START_DATE)) AS INTEGER) AS DAYS_TO_NEXT_CYCLE\n",
    "FROM  (SELECT\n",
    "        BP.PATIENTID,\n",
    "        SR.MERGED_REGIMEN_ID,\n",
    "        SR.MAPPED_REGIMEN,\n",
    "        SR.START_DATE_OF_REGIMEN,\n",
    "        SC.MERGED_CYCLE_ID,\n",
    "        SC.START_DATE_OF_CYCLE AS CYCLE_START_DATE,\n",
    "        SC.CYCLE_NUMBER\n",
    "    FROM (\n",
    "        SELECT *\n",
    "        FROM av_tumour\n",
    "        WHERE SITE_ICD10_O2_3CHAR like 'C50%'\n",
    "          AND DIAGNOSISDATEBEST BETWEEN '2010-01-01' AND '2020-12-31'\n",
    "          AND AGE >= 18\n",
    "    ) AS BP\n",
    "    JOIN sact_patients AS SP ON BP.PATIENTID = SP.MERGED_PATIENT_ID\n",
    "    JOIN sact_tumour AS ST ON BP.PATIENTID = ST.MERGED_PATIENT_ID\n",
    "    JOIN sact_regimens AS SR ON ST.MERGED_TUMOUR_ID = SR.MERGED_TUMOUR_ID\n",
    "    JOIN sact_cycle AS SC ON SR.MERGED_REGIMEN_ID = SC.MERGED_REGIMEN_ID)\n",
    " As BCT\n",
    "ORDER BY BCT.PATIENTID, BCT.MERGED_REGIMEN_ID, BCT.CYCLE_START_DATE;\n",
    "\"\"\"\n",
    "result7 = pql.sqldf(query7, locals())\n",
    "print(result7)  # Changed from result6 to result7\n"
   ]
  },
  {
   "cell_type": "code",
   "execution_count": 27,
   "id": "2e14ed0c",
   "metadata": {},
   "outputs": [
    {
     "name": "stdout",
     "output_type": "stream",
     "text": [
      "   MERGED_OUTCOME_ID  MERGED_REGIMEN_ID DATE_OF_FINAL_TREATMENT  \\\n",
      "0           10000001           10000001                    None   \n",
      "1           10000002           10000002                    None   \n",
      "2           10000003           10000003                    None   \n",
      "3           10000004           10000004              2017-01-28   \n",
      "4           10000005           10000005                    None   \n",
      "5           10000006           10000006                    None   \n",
      "6           10000007           10000007              2017-03-22   \n",
      "7           10000008           10000008                    None   \n",
      "8           10000009           10000009                    None   \n",
      "9           10000010           10000010                    None   \n",
      "\n",
      "  REGIMEN_MOD_DOSE_REDUCTION REGIMEN_MOD_TIME_DELAY REGIMEN_MOD_STOPPED_EARLY  \\\n",
      "0                          N                      Y                         N   \n",
      "1                          N                   None                         N   \n",
      "2                          N                      N                         N   \n",
      "3                          N                      Y                         N   \n",
      "4                          N                      N                         N   \n",
      "5                          N                      N                         N   \n",
      "6                          N                      Y                         N   \n",
      "7                          Y                   None                         N   \n",
      "8                          Y                      N                         N   \n",
      "9                          Y                      N                         N   \n",
      "\n",
      "  REGIMEN_OUTCOME_SUMMARY  MERGED_PATIENT_ID  MERGED_TUMOUR_ID  \n",
      "0                    None           10007761          10000001  \n",
      "1                    None           10016805          10000002  \n",
      "2                    None           10018778          10000003  \n",
      "3                    None           10019027          10000004  \n",
      "4                    None           10019936          10000005  \n",
      "5                    None           10034731          10000006  \n",
      "6                    None           10036202          10000007  \n",
      "7                    None           10036202          10000007  \n",
      "8                    None           10038043          10000008  \n",
      "9                    None           10038043          10000008  \n"
     ]
    }
   ],
   "source": [
    "queryex1 = \"\"\"\n",
    "select * from sact_outcomes\n",
    "limit 10;\n",
    "\"\"\" \n",
    "resultex1 = pql.sqldf(queryex1, locals())\n",
    "print(resultex1)"
   ]
  },
  {
   "cell_type": "code",
   "execution_count": 35,
   "id": "0568f16a",
   "metadata": {},
   "outputs": [
    {
     "name": "stdout",
     "output_type": "stream",
     "text": [
      "        PATIENTID NEWVITALSTATUS DIAGNOSISDATEBEST STAGE_BEST\n",
      "0        10339996              A        2017-05-16         2B\n",
      "1        10339999              A        2015-05-18         1A\n",
      "2        10340011              A        2016-11-15         2A\n",
      "3        10340014              A        2016-03-19          ?\n",
      "4        10340015              A        2016-10-30         2A\n",
      "...           ...            ...               ...        ...\n",
      "226374  330024216              D        2014-10-28         1A\n",
      "226375  330006741              A        2015-04-17          ?\n",
      "226376  330016564              A        2014-02-23          ?\n",
      "226377  330021447              A        2017-01-01          1\n",
      "226378  330022940              A        2017-09-12          3\n",
      "\n",
      "[226379 rows x 4 columns]\n"
     ]
    }
   ],
   "source": [
    "querys1 = \"\"\"\n",
    "SELECT AP.PATIENTID,AP.NEWVITALSTATUS,AT.DIAGNOSISDATEBEST,AT.STAGE_BEST\n",
    "FROM av_patients AS AP\n",
    "JOIN av_tumour AS AT ON AP.PATIENTID = AT.PATIENTID\n",
    "WHERE SITE_ICD10_O2_3CHAR like 'C50%'\n",
    "AND DIAGNOSISDATEBEST BETWEEN '2010-01-01' AND '2020-12-31'\n",
    "AND AGE >= 18\n",
    "AND NEWVITALSTATUS IS NOT NULL\n",
    ";\n",
    "\"\"\"\n",
    "results1 = pql.sqldf(querys1, locals())\n",
    "print(results1)"
   ]
  },
  {
   "cell_type": "code",
   "execution_count": 39,
   "id": "058f1da5",
   "metadata": {},
   "outputs": [],
   "source": [
    "resultskm=results1.to_csv(r'data\\km4_stage.csv', index=False)"
   ]
  },
  {
   "cell_type": "code",
   "execution_count": null,
   "id": "397fb896",
   "metadata": {},
   "outputs": [
    {
     "ename": "SyntaxError",
     "evalue": "invalid syntax (2182166325.py, line 9)",
     "output_type": "error",
     "traceback": [
      "\u001b[1;36m  Cell \u001b[1;32mIn[44], line 9\u001b[1;36m\u001b[0m\n\u001b[1;33m    data$event <- ifelse(data$NEWVITALSTATUS == \"D\", 1, 0)  # Assuming \"D\" means death\u001b[0m\n\u001b[1;37m        ^\u001b[0m\n\u001b[1;31mSyntaxError\u001b[0m\u001b[1;31m:\u001b[0m invalid syntax\n"
     ]
    }
   ],
   "source": [
    "\"\"\"# Load required packages\n",
    "library(survival)\n",
    "library(survminer)\n",
    "\n",
    "# Read the exported CSV file\n",
    "data <- read.csv(r'data\\km4_stage.csv')\n",
    "\n",
    "# Data preparation\n",
    "data$event <- ifelse(data$NEWVITALSTATUS == \"D\", 1, 0)  # Assuming \"D\" means death\n",
    "data$time <- as.numeric(difftime(\n",
    "  as.Date(data$VITALSTATUSDATE, format=\"%Y-%m-%d\"),\n",
    "  as.Date(data$DIAGNOSISDATEBEST, format=\"%Y-%m-%d\"), \n",
    "  units=\"days\"\n",
    ")) / 30.44  # Convert to months\n",
    "\n",
    "# Create and fit survival model stratified by stage\n",
    "km_fit_by_stage <- survfit(Surv(time, event) ~ STAGE_BEST, data = data)\n",
    "\n",
    "# Plot the stratified Kaplan-Meier curves\n",
    "ggsurvplot(\n",
    "  km_fit_by_stage,\n",
    "  data = data,\n",
    "  risk.table = TRUE,\n",
    "  pval = TRUE,           # Add log-rank p-value\n",
    "  conf.int = TRUE,\n",
    "  palette = \"jco\",       #\n",
    "\n",
    "  \"\"\"\n"
   ]
  },
  {
   "cell_type": "code",
   "execution_count": null,
   "id": "5e36eaa0",
   "metadata": {},
   "outputs": [],
   "source": []
  }
 ],
 "metadata": {
  "kernelspec": {
   "display_name": "denv",
   "language": "python",
   "name": "denv"
  },
  "language_info": {
   "codemirror_mode": {
    "name": "ipython",
    "version": 3
   },
   "file_extension": ".py",
   "mimetype": "text/x-python",
   "name": "python",
   "nbconvert_exporter": "python",
   "pygments_lexer": "ipython3",
   "version": "3.12.2"
  }
 },
 "nbformat": 4,
 "nbformat_minor": 5
}
